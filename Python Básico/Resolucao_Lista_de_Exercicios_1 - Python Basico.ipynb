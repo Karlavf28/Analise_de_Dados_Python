{
 "cells": [
  {
   "cell_type": "code",
   "execution_count": 43,
   "metadata": {},
   "outputs": [],
   "source": [
    "#Primeira Lista de Exercícios - Disciplina Análise de Dados - UFMG"
   ]
  },
  {
   "cell_type": "code",
   "execution_count": 46,
   "metadata": {},
   "outputs": [
    {
     "name": "stdout",
     "output_type": "stream",
     "text": [
      "Qual o ano atual?1990\n",
      "Qual o seu ano de nascimento?1990\n",
      "Voce tem 0 anos\n"
     ]
    }
   ],
   "source": [
    "#1. Calcule a idade a partir do ano de nascimento\n",
    "ano_atual = int(input(\"Qual o ano atual?\"))\n",
    "ano_nascimento = int(input(\"Qual o seu ano de nascimento?\"))\n",
    "idade = ano_atual - ano_nascimento\n",
    "print(\"Voce tem\", idade, \"anos\")"
   ]
  },
  {
   "cell_type": "code",
   "execution_count": 48,
   "metadata": {},
   "outputs": [
    {
     "name": "stdout",
     "output_type": "stream",
     "text": [
      "Digite a primeira dimensão do comodo2\n",
      "Digite a segunda dimensão do comodo3\n",
      "A area do comodo e 6 m2 e a potência necessária é: 90 W\n"
     ]
    }
   ],
   "source": [
    "#2.Sabe-se que para iluminar de maneira correta os cômodos de uma casa, para cada m2, deve-se usar 15 W de potência. \n",
    "#Sendo fornecidas as dimensões de um cômodo (retangular em metros),\n",
    "#calcule e exiba a sua área (em m2) e a potência de iluminação que deverá ser utilizada.\n",
    "\n",
    "a = int(input(\"Digite a primeira dimensão do comodo\"))\n",
    "b = int(input(\"Digite a segunda dimensão do comodo\"))\n",
    "area = a*b\n",
    "potencia = area*15\n",
    "print (\"A area do comodo e\", area, \"m2\", \"e a potência necessária é:\", potencia, \"W\")"
   ]
  },
  {
   "cell_type": "code",
   "execution_count": 50,
   "metadata": {},
   "outputs": [
    {
     "name": "stdout",
     "output_type": "stream",
     "text": [
      "Digite o valor do angulo em graus4\n",
      "seno: 0.0697564737441253 cos:  0.9975640502598242 tan:  0.06992681194351041\n"
     ]
    }
   ],
   "source": [
    "#3. Entrar com um ângulo em graus e exibir o valor do seu seno, co-seno e tangente. Dica: usar a\n",
    "#biblioteca math para as funções que calcular seno, cosseno e tangente. Obs.: Elas recebem o valor\n",
    "#do ângulo em radianos.\n",
    "\n",
    "import math\n",
    "angulo_grau = int(input(\"Digite o valor do angulo em graus\"))\n",
    "angulo_radiano = (angulo_grau*math.pi)/180\n",
    "print(\"seno:\",math.sin(angulo_radiano), \"cos: \",math.cos(angulo_radiano), \"tan: \", math.tan(angulo_radiano) )"
   ]
  },
  {
   "cell_type": "code",
   "execution_count": 52,
   "metadata": {},
   "outputs": [
    {
     "name": "stdout",
     "output_type": "stream",
     "text": [
      "Digite o valor a ser aplicado mensalmente: 4\n",
      "Digite a taxa de juros compostos: 4\n",
      "Digite o numero de meses: 4\n",
      "O rendimento será: 6.24\n"
     ]
    }
   ],
   "source": [
    "#4.Uma pessoa resolveu fazer uma aplicação em uma poupança programada. ****REVER\n",
    "#Calcule e exiba o rendimento que ela obterá, sabendo que deverá ser fornecido o valor constante da aplicação mensal,\n",
    "# a taxa e o número de meses. \n",
    "#A fórmula usada para este cálculo é: valor acumulado = P * (((1 + i)n – 1) / i), onde i = taxa; P = aplicação mensal;\n",
    "# n = número de meses. Dica: usar a biblioteca math.\n",
    "\n",
    "import math\n",
    "aplicacao_mensal = float(input(\"Digite o valor a ser aplicado mensalmente: \"))\n",
    "taxa_juros = float(input(\"Digite a taxa de juros compostos: \"))\n",
    "n_meses = int(input(\"Digite o numero de meses: \"))\n",
    "rendimento = aplicacao_mensal*((((1+taxa_juros)**n_meses)-1)/taxa_juros)\n",
    "print(\"O rendimento será:\",rendimento/100)"
   ]
  },
  {
   "cell_type": "code",
   "execution_count": 54,
   "metadata": {},
   "outputs": [
    {
     "name": "stdout",
     "output_type": "stream",
     "text": [
      "Digite um valor em segundos 2\n",
      "2 segundos\n"
     ]
    }
   ],
   "source": [
    "#5. Escreva um programa que solicite um determinado número de segundos e, em seguida, \n",
    "#indique quantas horas, minutos e segundos esse valor representa. Ex: 5000 segundos representam 1h 23min 20s.\n",
    "\n",
    "v_segundos = int(input(\"Digite um valor em segundos \"))\n",
    "horas = int(v_segundos/3600);\n",
    "minutos = int((v_segundos%3600)/60)\n",
    "segundos = int((v_segundos%3600)%60)\n",
    "\n",
    "if horas>=1:\n",
    "    print(horas, \"horas\")\n",
    "if minutos>=1:\n",
    "    print(minutos, \"minutos\")\n",
    "if segundos>=1:\n",
    "    print(segundos,\"segundos\")\n",
    "\n"
   ]
  },
  {
   "cell_type": "code",
   "execution_count": null,
   "metadata": {},
   "outputs": [],
   "source": [
    "#6.Dados os coeficientes de uma equação do segundo grau calcular e imprimir as raízes da equação. \n",
    "#Caso a equação não possua raízes reais seu programa deve mostrar uma mensagem.\n",
    "# axˆ2+bx+c=0\n",
    "\n",
    "import math\n",
    "a = float(input(\"Digite o coefinciente a: \"))\n",
    "b = float(input(\"Digite o coeficiente b: \"))\n",
    "c = float(input(\"Digite o coeficiente c: \"))\n",
    "delta = b*b -4*a*c\n",
    "if delta>=0:\n",
    "    x1 = (-1*b + math.sqrt(delta))/2*a\n",
    "    x2 = (-1*b - math.sqrt(delta))/2*a\n",
    "    print(\"Resultado da equação: x1= \",x1 , \"x2 = \", x2)\n",
    "else:\n",
    "    print(\"O resultado dessa equação não é um valor real\")\n",
    "              "
   ]
  },
  {
   "cell_type": "code",
   "execution_count": null,
   "metadata": {},
   "outputs": [],
   "source": [
    "# 7 .Faça um programa para receber três números inteiros: um representando um dia, \n",
    "#outro representando um mês e um terceiro representando um ano d.C. \n",
    "#O programa deverá decidir se juntos os três números formam uma data válida.\n",
    "\n",
    "dia = int(input(\"Digite o dia: \"))\n",
    "mes = int(input(\"Digite o mes: \"))\n",
    "ano = int(input(\"Digite o ano: \"))\n",
    "if (dia<=0) or (dia>30):\n",
    "    print(\"Data inválida\")\n",
    "elif (mes<=0) or (mes>12):\n",
    "    print(\"Data inválida\")\n",
    "elif (ano<=0) or (ano>=2100):\n",
    "    print(\"Data inválida\")\n",
    "else:\n",
    "    print(\"Data: \", dia, \"/\", mes, \"/\", ano)\n",
    "    "
   ]
  },
  {
   "cell_type": "code",
   "execution_count": 5,
   "metadata": {},
   "outputs": [
    {
     "name": "stdout",
     "output_type": "stream",
     "text": [
      "Digite o lado a: 2\n",
      "Digite o lado b: 3\n",
      "Digite o lado c: 4\n",
      "o triângulo é escaleno\n"
     ]
    }
   ],
   "source": [
    "#8. Faça um programa para ler os comprimentos dos três lados de um suposto triângulo e determinar, \n",
    "#caso formem um triângulo, se o mesmo é um triângulo equilátero, isósceles ou escaleno.\n",
    "\n",
    "a = float(input(\"Digite o lado a: \"))\n",
    "b = float(input(\"Digite o lado b: \"))\n",
    "c = float(input(\"Digite o lado c: \"))\n",
    "if (a==b)and(b==c):\n",
    "    print (\"O triângulo é equilátero\")\n",
    "elif (a!=b)and(b!=c)and(c!=a):\n",
    "    print(\"o triângulo é escaleno\")\n",
    "else:\n",
    "    print(\"o triângulo é isóceles\")"
   ]
  },
  {
   "cell_type": "code",
   "execution_count": 27,
   "metadata": {},
   "outputs": [
    {
     "name": "stdout",
     "output_type": "stream",
     "text": [
      "Digite o valor do primeiro número: 23\n",
      "Digite o valor do segundo número: 45\n"
     ]
    },
    {
     "ename": "KeyboardInterrupt",
     "evalue": "",
     "output_type": "error",
     "traceback": [
      "\u001b[0;31m---------------------------------------------------------------------------\u001b[0m",
      "\u001b[0;31mKeyboardInterrupt\u001b[0m                         Traceback (most recent call last)",
      "\u001b[0;32m<ipython-input-27-bdd69e56a3c2>\u001b[0m in \u001b[0;36m<module>\u001b[0;34m\u001b[0m\n\u001b[1;32m     16\u001b[0m \u001b[0;31m#     else:\u001b[0m\u001b[0;34m\u001b[0m\u001b[0;34m\u001b[0m\u001b[0;34m\u001b[0m\u001b[0m\n\u001b[1;32m     17\u001b[0m \u001b[0;31m#         num1 = resto\u001b[0m\u001b[0;34m\u001b[0m\u001b[0;34m\u001b[0m\u001b[0;34m\u001b[0m\u001b[0m\n\u001b[0;32m---> 18\u001b[0;31m     \u001b[0mnum1\u001b[0m \u001b[0;34m=\u001b[0m \u001b[0mnum2\u001b[0m \u001b[0;32mif\u001b[0m \u001b[0mnum2\u001b[0m \u001b[0;34m>\u001b[0m \u001b[0mresto\u001b[0m \u001b[0;32melse\u001b[0m \u001b[0mresto\u001b[0m\u001b[0;34m\u001b[0m\u001b[0;34m\u001b[0m\u001b[0m\n\u001b[0m\u001b[1;32m     19\u001b[0m     \u001b[0mnum2\u001b[0m \u001b[0;34m=\u001b[0m \u001b[0mresto\u001b[0m \u001b[0;32mif\u001b[0m \u001b[0mnum2\u001b[0m \u001b[0;34m>\u001b[0m \u001b[0mresto\u001b[0m \u001b[0;32melse\u001b[0m \u001b[0mnum2\u001b[0m\u001b[0;34m\u001b[0m\u001b[0;34m\u001b[0m\u001b[0m\n\u001b[1;32m     20\u001b[0m \u001b[0mprint\u001b[0m\u001b[0;34m(\u001b[0m\u001b[0;34m\"O MDC é {}\"\u001b[0m\u001b[0;34m.\u001b[0m\u001b[0mformat\u001b[0m\u001b[0;34m(\u001b[0m\u001b[0mnum1\u001b[0m\u001b[0;34m)\u001b[0m\u001b[0;34m)\u001b[0m\u001b[0;34m\u001b[0m\u001b[0;34m\u001b[0m\u001b[0m\n",
      "\u001b[0;31mKeyboardInterrupt\u001b[0m: "
     ]
    }
   ],
   "source": [
    "#9  O máximo divisor comum de dois inteiros é o maior número que divide ambos sem deixar resto. Escreva um programa em Python que lê dois inteiros positivos (ou seja, maiores que zero) e calcula\n",
    "# o seu máximo divisor comum.\n",
    "\n",
    "num1 = int(input(\"Digite o valor do primeiro número: \"))\n",
    "num2 = int(input(\"Digite o valor do segundo número: \"))\n",
    "\n",
    " \n",
    "\n"
   ]
  },
  {
   "cell_type": "code",
   "execution_count": 26,
   "metadata": {},
   "outputs": [
    {
     "name": "stdout",
     "output_type": "stream",
     "text": [
      "18446744073709551615\n"
     ]
    }
   ],
   "source": [
    "# 10 - Um tabuleiro de xadrez possui 64 casas. Um rei pagará 1 grão de trigo para a primeira casa, 2 para a segunda,\n",
    "# 4 para a terceira e assim sucessivamente. Quanto o rei deverá pagar em grãos de trigo?\n",
    "\n",
    "soma = 0\n",
    "for i in range(64):\n",
    "    soma = soma + 2**i\n",
    "print(soma)\n"
   ]
  },
  {
   "cell_type": "code",
   "execution_count": 23,
   "metadata": {},
   "outputs": [
    {
     "name": "stdout",
     "output_type": "stream",
     "text": [
      "Para a população de A ultrapassar a de B são necessários  35 anos\n"
     ]
    }
   ],
   "source": [
    "# 11. Dado um país A, com 5.000.000 de habitantes e uma taxa de natalidade de 3% ao ano, \n",
    "# e um país B com 7.000.000 e uma taxa de natalidade de 2% ao ano, construa um programa em \n",
    "#Python que calcule quantos anos serão necessários para que a população do país \n",
    "# A ultrapasse a população do país B.\n",
    "\n",
    "A = float(5000000)\n",
    "B = float(7000000)\n",
    "anos = int(0)\n",
    "\n",
    "while (A <= B):\n",
    "  \n",
    "    A = A*1.03\n",
    "    B = B*1.02\n",
    "    anos = anos +1\n",
    "\n",
    "\n",
    "print(\"Para a população de A ultrapassar a de B são necessários \", anos, \"anos\")\n"
   ]
  },
  {
   "cell_type": "code",
   "execution_count": 15,
   "metadata": {},
   "outputs": [
    {
     "name": "stdout",
     "output_type": "stream",
     "text": [
      "Você deve digitar 3 números em ordem decrescente:\n",
      "Digite o primeiro numero: 2\n",
      "Digite o segundo numero: 1\n",
      "Digite o terceiro numero: 4\n",
      "Erro! Os números não estão na ordem crescente\n"
     ]
    }
   ],
   "source": [
    "# 12. Faça um programa em Python que receba três números em ordem decrescente.\n",
    "# O programa deve verificar se os números recebidos estão realmente em ordem decrescente. \n",
    "# Caso positivo, o programa deve então receber um quarto número que não siga a regra de ordem decrescente \n",
    "# e deve exibir os quatro números recebidos em ordem crescente. \n",
    "# Se os três primeiros números recebidos não estiverem em ordem decrescente, o programa deverá apenas exibir \n",
    "# uma mensagem de erro!\n",
    "\n",
    "#OBS: Não usar vetor\n",
    "\n",
    "print (\"Você deve digitar 3 números em ordem decrescente:\")\n",
    "a = float(input(\"Digite o primeiro numero: \"))\n",
    "b = float(input(\"Digite o segundo numero: \"))\n",
    "c = float(input(\"Digite o terceiro numero: \"))\n",
    "\n",
    "if (a<b) and (b<c):\n",
    "    d = float(input(\"Digite o quarto numero\"))\n",
    "    if (d<a):\n",
    "        print (d, a, b, c)\n",
    "    elif(d<b):\n",
    "        print (a,d ,b ,c)\n",
    "    elif (d<c):\n",
    "        print(a, b, d, c)\n",
    "    else:\n",
    "        print(a, b, c, d)\n",
    "                    \n",
    "else:\n",
    "    print(\"Erro! Os números não estão na ordem crescente\")\n",
    "    \n",
    "\n"
   ]
  },
  {
   "cell_type": "code",
   "execution_count": 29,
   "metadata": {},
   "outputs": [
    {
     "name": "stdout",
     "output_type": "stream",
     "text": [
      "Digite o valor de N 4\n",
      "O resultado e : 6.416666666666666\n"
     ]
    }
   ],
   "source": [
    "# 13. Fazer um programa em Python para solicitar N (número inteiro maior que zero) e calcular o valor de S, \n",
    "#dado por: S=1/N + 2/(N-1) + 3/(N-3)...N/1\n",
    "\n",
    "N = int(input(\"Digite o valor de N \"))\n",
    "\n",
    "S = 0\n",
    "for i in range(1,N+1):\n",
    "    S = S + i/(N-(i-1))\n",
    "  \n",
    "print (\"O resultado e :\", S)\n",
    "    \n",
    "    "
   ]
  },
  {
   "cell_type": "code",
   "execution_count": 30,
   "metadata": {},
   "outputs": [
    {
     "name": "stdout",
     "output_type": "stream",
     "text": [
      "\n",
      "Menu principal\n",
      "1 - Converter de Fahrenheit para Celsius\n",
      "2 - Converter de Celsius para Fahrenheit\n",
      "3 - Sair\n",
      "Digite a opção desejada: 1\n",
      "Digite a temperatura em graus Fahrenheit: 4\n",
      "\n",
      "Essa temperatura em graus Celsius é -15.555555555555555\n",
      "\n",
      "Menu principal\n",
      "1 - Converter de Fahrenheit para Celsius\n",
      "2 - Converter de Celsius para Fahrenheit\n",
      "3 - Sair\n",
      "Digite a opção desejada: 2\n",
      "Digite a temperatura em graus Celsius: 35\n",
      "\n",
      "Essa temperatura em graus Fahrenheit é 95.0\n",
      "\n",
      "Menu principal\n",
      "1 - Converter de Fahrenheit para Celsius\n",
      "2 - Converter de Celsius para Fahrenheit\n",
      "3 - Sair\n",
      "Digite a opção desejada: 3\n",
      "Programa encerrado!\n"
     ]
    }
   ],
   "source": [
    "#14. Faça um programa para fazer conversão de temperaturas de graus Fahrenheit para graus Celsius e vice-versa.\n",
    "\n",
    "def F2C(tempF):\n",
    "    tempC = 5*(tempF-32)/9\n",
    "    return tempC\n",
    "\n",
    "def C2F(tempC):\n",
    "    tempF = 9*tempC/5 + 32\n",
    "    return tempF\n",
    "\n",
    "# programa principal\n",
    "opcao = 0\n",
    "while opcao != 3:\n",
    "    print(\"\\nMenu principal\")\n",
    "    print(\"1 - Converter de Fahrenheit para Celsius\")\n",
    "    print(\"2 - Converter de Celsius para Fahrenheit\")\n",
    "    print(\"3 - Sair\")\n",
    "    opcao = int(input(\"Digite a opção desejada: \"))\n",
    "    if opcao == 1:\n",
    "        temp = float(input(\"Digite a temperatura em graus Fahrenheit: \"))\n",
    "        print(\"\\nEssa temperatura em graus Celsius é {}\".format(F2C(temp)))\n",
    "    elif opcao == 2:\n",
    "        temp = float(input(\"Digite a temperatura em graus Celsius: \"))\n",
    "        print(\"\\nEssa temperatura em graus Fahrenheit é {}\".format(C2F(temp)))    \n",
    "    elif opcao == 3:\n",
    "        print(\"Programa encerrado!\")\n",
    "    else:\n",
    "        print(\"Opção inválida!\")"
   ]
  },
  {
   "cell_type": "code",
   "execution_count": 31,
   "metadata": {},
   "outputs": [
    {
     "name": "stdout",
     "output_type": "stream",
     "text": [
      "2.7182815255731922\n"
     ]
    }
   ],
   "source": [
    "#16. Faça uma função para calcular o valor aproximado de e por meio da série:\n",
    "\n",
    "def fatorial(n):\n",
    "    if n == 0 or n==1:\n",
    "        return 1\n",
    "    else:\n",
    "        return n*fatorial(n-1)\n",
    "\n",
    "N = 10\n",
    "e = 0\n",
    "for i in range(N):\n",
    "    e = e + 1/fatorial(i)\n",
    "print(e)"
   ]
  },
  {
   "cell_type": "code",
   "execution_count": null,
   "metadata": {},
   "outputs": [],
   "source": []
  }
 ],
 "metadata": {
  "kernelspec": {
   "display_name": "Python 3",
   "language": "python",
   "name": "python3"
  },
  "language_info": {
   "codemirror_mode": {
    "name": "ipython",
    "version": 3
   },
   "file_extension": ".py",
   "mimetype": "text/x-python",
   "name": "python",
   "nbconvert_exporter": "python",
   "pygments_lexer": "ipython3",
   "version": "3.8.5"
  }
 },
 "nbformat": 4,
 "nbformat_minor": 4
}
