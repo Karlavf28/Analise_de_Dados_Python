{
 "cells": [
  {
   "cell_type": "markdown",
   "metadata": {},
   "source": [
    "## Primeiro trabalho prático - Karla Azambuja"
   ]
  },
  {
   "cell_type": "markdown",
   "metadata": {},
   "source": [
    "1. Dado um número natural na base binária, transformá-lo para a base decimal.\n",
    "\n",
    "Exemplo: Dado 10010 a saída será 18, pois $1 \\times 2^4 + 0\\times 2^3 + 0\\times 2^2 + 1\\times 2^1 + 0\\times 2^0 = 18$."
   ]
  },
  {
   "cell_type": "code",
   "execution_count": 8,
   "metadata": {},
   "outputs": [
    {
     "name": "stdout",
     "output_type": "stream",
     "text": [
      "Digite um número natural na base binária: 10010\n",
      "Valor em decimal 18\n"
     ]
    }
   ],
   "source": [
    "# Responda aqui\n",
    "\n",
    "s =input(\"Digite um número natural na base binária: \")\n",
    "\n",
    "tam = len(s)\n",
    "p_max = tam-1\n",
    "dec = int(0)\n",
    "\n",
    "for i in range(0,tam-1):\n",
    "    dec = dec + int(s[i])*(2**p_max)\n",
    "    p_max = p_max -1\n",
    "\n",
    "print(\"Valor em decimal\", dec)\n"
   ]
  },
  {
   "cell_type": "markdown",
   "metadata": {},
   "source": [
    "2. Escreva uma função que recebe um número inteiro $n > 0$ e devolve o número de dígitos de $n$ e o primeiro dígito de $n$.\n",
    "\n",
    "Escreva um programa que leia uma sequência de n inteiros positivos e imprime o número de dígitos e o primeiro dígito de cada um deles fazendo chamadas à função que você definiu anteriormente."
   ]
  },
  {
   "cell_type": "code",
   "execution_count": 18,
   "metadata": {},
   "outputs": [
    {
     "name": "stdout",
     "output_type": "stream",
     "text": [
      "Informe os valores separados por espaço: 234 43 1\n",
      "Numero digitado: 234  / Numero de digitos: 3  / Primeiro digito:  2\n",
      "Numero digitado: 43  / Numero de digitos: 2  / Primeiro digito:  4\n",
      "Numero digitado: 1  / Numero de digitos: 1  / Primeiro digito:  1\n"
     ]
    }
   ],
   "source": [
    "# Responda aqui\n",
    "\n",
    "def f_digitos(n):\n",
    "    s = str(n)\n",
    "    n_digitos = len(s)\n",
    "    p_digito = int(s[0])\n",
    "    \n",
    "    return n_digitos, p_digito\n",
    "    \n",
    "lista = input(\"Informe os valores separados por espaço: \").split(' ')\n",
    "\n",
    "tam = len(lista)\n",
    "\n",
    "for i in range(0,tam):\n",
    "    valor_inteiro = int(lista[i])\n",
    "    n_digitos, p_digito = f_digitos(valor_inteiro)\n",
    "    print(\"Numero digitado:\",lista[i],\" / Numero de digitos:\",n_digitos, \" / Primeiro digito: \", p_digito)\n",
    "\n",
    "\n",
    "    \n",
    "\n"
   ]
  },
  {
   "cell_type": "markdown",
   "metadata": {},
   "source": [
    "3. Faça uma função para calcular o valor aproximado de $sen\\ x$ por meio da série: \n",
    "\n",
    "$S = x - \\frac{x^3}{3!} + \\frac{x^5}{5!} - \\frac{x^7}{7!} + \\frac{x^9}{9!} - \\cdots$\n",
    "\n",
    "OBS.1: O número de termos da série e o valor de x deverá ser fornecido pelo usuário no programa principal e passado à função como parâmetro.\n",
    "OBS.2: Escreva uma função fatorial para ser usada no cálculo de cada termo."
   ]
  },
  {
   "cell_type": "code",
   "execution_count": 26,
   "metadata": {},
   "outputs": [
    {
     "name": "stdout",
     "output_type": "stream",
     "text": [
      "Digite o valor que deseja calcular o seno: 60\n",
      "Digite o numero de termos da função 2\n",
      "O valor aproximado do seno de  60.0 é : 540060.0\n"
     ]
    }
   ],
   "source": [
    "# Responda aqui\n",
    "\n",
    "def fatorial(n):\n",
    "    if n == 0 or n==1:\n",
    "        return 1\n",
    "    else:\n",
    "        return n*fatorial(n-1)\n",
    "    \n",
    "def seno_aprox(x , n_termos):\n",
    "    s = x\n",
    "    for i in range(1,n_termos):\n",
    "        if(i%2 == 0):\n",
    "            s = s - ((x**(n_termos+2)) / fatorial(n_termos+2))\n",
    "        else:\n",
    "            s = s + ((x**(n_termos+2)) / fatorial(n_termos+2))\n",
    "    return s\n",
    "        \n",
    "x = float(input(\"Digite o valor que deseja calcular o seno: \"))\n",
    "n_termos = int(input(\"Digite o numero de termos da função \"))\n",
    "s=seno_aprox(x,n_termos)\n",
    "\n",
    "print(\"O valor aproximado do seno de \", x, \"é :\", s)\n"
   ]
  },
  {
   "cell_type": "markdown",
   "metadata": {},
   "source": [
    "4. Escreva uma função para o cálculo de cada uma seguintes medidas estatísticas:\n",
    "    1. Média ($\\bar{x} = \\frac{\\sum_{i=1}^n x_i}{n}$)\n",
    "    2. Variância ($S^2 = \\frac{\\sum_{i=1}^n (x_i-\\bar{x})^2}{n-1}$)\n",
    "    3. Desvio padrão ($S = \\sqrt{S^2}$) \n",
    "    4. Mediana (Valor do meio para uma lista (ordenada) contendo número ímpar de elementos e a média dos dois valores do meio quando esse número de elementos é par) <br>\n",
    "Cada função deverá receber como parâmetro 5 (cinco) números reais e retornar a respectiva medida estatística pedida. <br>\n",
    "Em seguida faça um programa principal que leia os respectivos valores, chame as funções construídas e exiba os resultados."
   ]
  },
  {
   "cell_type": "code",
   "execution_count": 28,
   "metadata": {},
   "outputs": [
    {
     "name": "stdout",
     "output_type": "stream",
     "text": [
      "Informe os valores separados por espaço: 2 3 4\n",
      "Media:  3.0\n",
      "Variancia:  0.6666666666666666\n",
      "Desvio:  0.6666666666666666\n"
     ]
    }
   ],
   "source": [
    "# Responda aqui\n",
    "import math\n",
    "\n",
    "def media(valor,n):\n",
    "    med =0\n",
    "    for i in range (0,n):\n",
    "        med = (med + valor[i])\n",
    "    return med/n\n",
    "\n",
    "def variancia(valor,n):\n",
    "    var =0\n",
    "    med = media(valor,n)\n",
    "    for i in range(0,n):\n",
    "        var = var + (valor[i]-med)**2\n",
    "        \n",
    "    return var/n\n",
    "\n",
    "def desvio(valor, n):\n",
    "    var = variancia(valor,n)\n",
    "    dev = math.sqrt(var**2)\n",
    "    return dev\n",
    "    \n",
    " \n",
    "\n",
    "lista = input(\"Informe os valores separados por espaço: \").split(' ')\n",
    "\n",
    "n = int(len(lista))\n",
    "valor = [int(val) for val in lista]\n",
    "med = media(valor, n)\n",
    "var = variancia(valor,n)\n",
    "dev = desvio(valor,n)\n",
    "\n",
    "print(\"Media: \", med)\n",
    "print(\"Variancia: \", var)\n",
    "print(\"Desvio: \", dev)\n"
   ]
  },
  {
   "cell_type": "code",
   "execution_count": null,
   "metadata": {},
   "outputs": [],
   "source": []
  },
  {
   "cell_type": "code",
   "execution_count": null,
   "metadata": {},
   "outputs": [],
   "source": []
  },
  {
   "cell_type": "code",
   "execution_count": null,
   "metadata": {},
   "outputs": [],
   "source": []
  },
  {
   "cell_type": "code",
   "execution_count": null,
   "metadata": {},
   "outputs": [],
   "source": []
  }
 ],
 "metadata": {
  "kernelspec": {
   "display_name": "Python 3",
   "language": "python",
   "name": "python3"
  },
  "language_info": {
   "codemirror_mode": {
    "name": "ipython",
    "version": 3
   },
   "file_extension": ".py",
   "mimetype": "text/x-python",
   "name": "python",
   "nbconvert_exporter": "python",
   "pygments_lexer": "ipython3",
   "version": "3.8.5"
  }
 },
 "nbformat": 4,
 "nbformat_minor": 2
}
