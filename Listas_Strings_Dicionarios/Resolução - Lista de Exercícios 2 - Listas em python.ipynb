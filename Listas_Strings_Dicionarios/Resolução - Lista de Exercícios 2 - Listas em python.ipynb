{
 "cells": [
  {
   "cell_type": "code",
   "execution_count": 19,
   "metadata": {},
   "outputs": [
    {
     "name": "stdout",
     "output_type": "stream",
     "text": [
      "a= [1, 2, 3, []]\n",
      "b= [1, [2, 3], 4]\n",
      "c= [[1, 2, 3], []]\n",
      "d= [[1, 2, 3], [4, 5, 6]]\n",
      "e= []\n",
      "f= [4, 3]\n",
      "g= [4, 3]\n",
      "h= [4]\n"
     ]
    }
   ],
   "source": [
    "#1 - Quais destas entradas são válidas ou não em Python? Se estiverem erradas, corrija: \n",
    "#a. [1,2,3,[]]\n",
    "#b. [1,[2,3],4]\n",
    "#c. [[1,2,3],[]]\n",
    "#d. []+[[1,2,3],[4,5,6]] \n",
    "#e. []+[]\n",
    "#f. [4]+[3]\n",
    "#g. 4+[3]\n",
    "#h. [4]+[]\n",
    "\n",
    "lista_a = [1,2,3,[]]\n",
    "print (\"a=\", lista_a)\n",
    "lista_b = [1,[2,3],4]\n",
    "print (\"b=\", lista_b)\n",
    "lista_c = [[1,2,3],[]]\n",
    "print(\"c=\",lista_c)\n",
    "lista_d = []+[[1,2,3],[4,5,6]] \n",
    "print(\"d=\",lista_d)\n",
    "lista_e = []+[]\n",
    "print(\"e=\", lista_e)\n",
    "lista_f =  [4]+[3]\n",
    "print(\"f=\",lista_f)\n",
    "lista_g = [4] +[3]\n",
    "print(\"g=\",lista_g)\n",
    "lista_h = [4]+[]\n",
    "print(\"h=\",lista_h)"
   ]
  },
  {
   "cell_type": "code",
   "execution_count": 30,
   "metadata": {},
   "outputs": [
    {
     "name": "stdout",
     "output_type": "stream",
     "text": [
      "3.0\n"
     ]
    }
   ],
   "source": [
    "# 2 – Construa uma função que receba uma lista de inteiros e retorne a média dos elementos da lista.\n",
    "\n",
    "def Media(lista):\n",
    "    tam = len(lista)\n",
    "    soma = 0\n",
    "    for i in range (0,tam):\n",
    "        soma = soma + lista[i]\n",
    "        \n",
    "    media = soma/tam\n",
    "    \n",
    "    print(media)\n",
    "    \n",
    "\n",
    "lista = [1,2,3,4,5]\n",
    "Media(lista)"
   ]
  },
  {
   "cell_type": "code",
   "execution_count": 62,
   "metadata": {},
   "outputs": [
    {
     "name": "stdout",
     "output_type": "stream",
     "text": [
      "[(1, 'a'), (2, 'b'), (3, 'c')]\n"
     ]
    }
   ],
   "source": [
    "#3Defina uma função zip que pega duas listas e concatena, de forma que o primeiro par da lista resultante \n",
    "# (uma tupla) seja composta pelos dois primeiros elementos de cada lista de entrada, e assim por diante. \n",
    "# Ex: zip([1,2,3],\"abc\") = [(1, 'a'), (2, 'b'), (3, 'c')]. \n",
    "\n",
    "#Se uma das listas for maior que a outra, pode parar assim que a primeira acabar.\n",
    "#Ex: zip([1,2],\"abc\") = [(1, 'a'), (2, 'b')].\n",
    "\n",
    "def Zip (lista_1, lista_2):\n",
    "    \n",
    "    nova_lista=[]\n",
    "\n",
    "    tam_1 = len(lista_1)\n",
    "    tam_2 = len(lista_2)\n",
    "\n",
    "    if len(lista_1) >= len(lista_2):\n",
    "        tam = len(lista_2)\n",
    "    else:\n",
    "        tam = len(lista_1)\n",
    "   \n",
    "        \n",
    "    for i in range(0, tam-1):\n",
    "        tupla = (lista_1[i],lista_2[i])\n",
    "        nova_lista.append(tupla)\n",
    "        \n",
    "        \n",
    "    print(nova_lista)\n",
    "    \n",
    "lista_1 = [1,2,3,4]\n",
    "lista_2 = \"abcdefg\"\n",
    "\n",
    "\n",
    "Zip(lista_1,lista_2)\n",
    "    \n",
    "    "
   ]
  },
  {
   "cell_type": "code",
   "execution_count": 63,
   "metadata": {},
   "outputs": [
    {
     "name": "stdout",
     "output_type": "stream",
     "text": [
      "[2, 3, 4, 5, 6, 7, 8, 9]\n"
     ]
    }
   ],
   "source": [
    "#4 – Defina merge que pega duas listas ordenadas e as intercala devolvendo uma outra lista ordenada. \n",
    "# Ex: merge([1,3,8],[2,4,5,7]) = [1,2,3,4,5,7,8]\n",
    "\n",
    "def Merge(lista_1,lista_2):\n",
    "    \n",
    "    nova_lista = lista_1 + lista_2\n",
    "    nova_lista.sort()\n",
    "    print(nova_lista)\n",
    "    \n",
    "    \n",
    "    \n",
    "lista_1 = [3, 7, 8, 9, 4]\n",
    "lista_2 = [2,5,6]\n",
    "\n",
    "Merge(lista_1, lista_2)\n",
    "    "
   ]
  },
  {
   "cell_type": "code",
   "execution_count": 77,
   "metadata": {},
   "outputs": [
    {
     "name": "stdout",
     "output_type": "stream",
     "text": [
      "[1, 2, 4, 5, 8, 10, 20, 40]\n"
     ]
    }
   ],
   "source": [
    "#5 – Construa uma função que retorna uma lista dos divisores de um número n.\n",
    "\n",
    "\n",
    "def Divisores(num):\n",
    "    \n",
    "    \n",
    "    lista =[]\n",
    "    for i in range(1,num+1):\n",
    "            if((num%i)==0):\n",
    "               lista.append(i) \n",
    "            \n",
    "    \n",
    "    print(lista)\n",
    "            \n",
    "Divisores(40)"
   ]
  },
  {
   "cell_type": "code",
   "execution_count": 91,
   "metadata": {},
   "outputs": [
    {
     "name": "stdout",
     "output_type": "stream",
     "text": [
      "[1, 2, 3, 5, 7, 11, 13, 17, 19, 23, 29]\n"
     ]
    }
   ],
   "source": [
    "#6 – Construa uma função que retorna uma lista dos números primos entre 1 e n.\n",
    "\n",
    "def Primos(n):\n",
    "    \n",
    "    lista =[]\n",
    "    \n",
    "    for i in range (1,n):\n",
    "    \n",
    "        count =0\n",
    "        primo=0\n",
    "        \n",
    "        #verifica se é primo\n",
    "        for j in range (2,i):\n",
    "            if (i%j ==0):\n",
    "                count = count+1\n",
    "    \n",
    "        if count==0:\n",
    "            lista.append(i)\n",
    "    \n",
    "    print(lista)\n",
    "    \n",
    "Primos(30)"
   ]
  },
  {
   "cell_type": "code",
   "execution_count": 107,
   "metadata": {},
   "outputs": [
    {
     "name": "stdout",
     "output_type": "stream",
     "text": [
      "[3.0, 3.6666666666666665, 3.0]\n"
     ]
    }
   ],
   "source": [
    "#7 – Construa uma função que recebe uma lista de listas e retorna uma lista contendo as médias das listas dadas.\n",
    "\n",
    "def MediaLista (lista):\n",
    "    \n",
    "    tam = len(lista)\n",
    "    nova_lista = []\n",
    "    \n",
    "    for i in range(0,tam):\n",
    "        media=0\n",
    "        tam_2 = len(lista[i])\n",
    "            \n",
    "        for j in range(0,tam_2):\n",
    "            media = media + lista[i][j]\n",
    "                \n",
    "        media = media/tam_2\n",
    "        nova_lista.append(media)\n",
    "        \n",
    "            \n",
    "    print(nova_lista)\n",
    "\n",
    "lista = [[4,2,3],[2,3,6],[0,5,4]]\n",
    "MediaLista(lista)\n",
    "            "
   ]
  },
  {
   "cell_type": "code",
   "execution_count": null,
   "metadata": {},
   "outputs": [],
   "source": []
  }
 ],
 "metadata": {
  "kernelspec": {
   "display_name": "Python 3",
   "language": "python",
   "name": "python3"
  },
  "language_info": {
   "codemirror_mode": {
    "name": "ipython",
    "version": 3
   },
   "file_extension": ".py",
   "mimetype": "text/x-python",
   "name": "python",
   "nbconvert_exporter": "python",
   "pygments_lexer": "ipython3",
   "version": "3.8.5"
  }
 },
 "nbformat": 4,
 "nbformat_minor": 4
}
