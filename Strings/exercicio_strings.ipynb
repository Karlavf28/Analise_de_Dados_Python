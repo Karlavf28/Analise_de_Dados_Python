{
 "cells": [
  {
   "cell_type": "markdown",
   "metadata": {},
   "source": [
    "# Exercício"
   ]
  },
  {
   "cell_type": "markdown",
   "metadata": {},
   "source": [
    "2. Escreva um programa que lê o arquivo 01.mol2 e monta uma lista com as ligações existentes na molécula (2ª e 3ª colunas da seção BOND. Cada elemento da lista será uma tupla contendo o par de átomos que forma a ligação. Depois que montar a lista seu programa deve percorrê-la e imprimir quais átomos formam a ligação com base nas informações coletadas na questão 1."
   ]
  },
  {
   "cell_type": "code",
   "execution_count": 7,
   "metadata": {},
   "outputs": [
    {
     "name": "stdout",
     "output_type": "stream",
     "text": [
      "[{'atomo': 'S', 'coordenadas': ('-0.8790', '-1.4290', '-0.0740'), 'tipo': 'S.3', 'carga': '-0.300200'}, {'atomo': 'O', 'coordenadas': ('-4.7320', '-1.2760', '-0.7270'), 'tipo': 'O.2', 'carga': '-0.611100'}, {'atomo': 'N', 'coordenadas': ('-3.6270', '-1.3330', '1.2540'), 'tipo': 'N.am', 'carga': '-0.665000'}, {'atomo': 'H', 'coordenadas': ('-4.4600', '-1.6170', '1.7450'), 'tipo': 'H', 'carga': '0.318500'}, {'atomo': 'H1', 'coordenadas': ('-2.7470', '-1.2830', '1.7440'), 'tipo': 'H', 'carga': '0.318500'}, {'atomo': 'C', 'coordenadas': ('0.3930', '-0.1980', '-0.6770'), 'tipo': 'C.3', 'carga': '0.122000'}, {'atomo': 'H2', 'coordenadas': ('0.3210', '-0.2180', '-1.7660'), 'tipo': 'H', 'carga': '0.081700'}, {'atomo': 'C1', 'coordenadas': ('1.7770', '-0.7110', '-0.3070'), 'tipo': 'C.ar', 'carga': '-0.081800'}, {'atomo': 'C2', 'coordenadas': ('2.8010', '-0.6220', '-1.2570'), 'tipo': 'C.ar', 'carga': '-0.116750'}, {'atomo': 'H3', 'coordenadas': ('2.5830', '-0.2200', '-2.2410'), 'tipo': 'H', 'carga': '0.138000'}, {'atomo': 'C3', 'coordenadas': ('4.0950', '-1.0400', '-0.9580'), 'tipo': 'C.ar', 'carga': '-0.127750'}, {'atomo': 'H4', 'coordenadas': ('4.8720', '-0.9630', '-1.7090'), 'tipo': 'H', 'carga': '0.135250'}, {'atomo': 'C4', 'coordenadas': ('4.3870', '-1.5610', '0.3010'), 'tipo': 'C.ar', 'carga': '-0.122000'}, {'atomo': 'H5', 'coordenadas': ('5.3920', '-1.8920', '0.5360'), 'tipo': 'H', 'carga': '0.134500'}, {'atomo': 'C5', 'coordenadas': ('3.3740', '-1.6630', '1.2530'), 'tipo': 'C.ar', 'carga': '-0.127750'}, {'atomo': 'H6', 'coordenadas': ('3.5880', '-2.0770', '2.2320'), 'tipo': 'H', 'carga': '0.135250'}, {'atomo': 'C6', 'coordenadas': ('2.0800', '-1.2420', '0.9520'), 'tipo': 'C.ar', 'carga': '-0.116750'}, {'atomo': 'H7', 'coordenadas': ('1.3020', '-1.3430', '1.6990'), 'tipo': 'H', 'carga': '0.138000'}, {'atomo': 'C7', 'coordenadas': ('0.1130', '1.2240', '-0.2220'), 'tipo': 'C.ar', 'carga': '-0.081800'}, {'atomo': 'C8', 'coordenadas': ('0.1740', '1.6050', '1.1240'), 'tipo': 'C.ar', 'carga': '-0.116750'}, {'atomo': 'H8', 'coordenadas': ('0.4200', '0.8700', '1.8810'), 'tipo': 'H', 'carga': '0.138000'}, {'atomo': 'C9', 'coordenadas': ('-0.0760', '2.9190', '1.5030'), 'tipo': 'C.ar', 'carga': '-0.127750'}, {'atomo': 'H9', 'coordenadas': ('-0.0200', '3.1960', '2.5500'), 'tipo': 'H', 'carga': '0.135250'}, {'atomo': 'C10', 'coordenadas': ('-0.3960', '3.8810', '0.5430'), 'tipo': 'C.ar', 'carga': '-0.122000'}, {'atomo': 'H10', 'coordenadas': ('-0.5910', '4.9050', '0.8400'), 'tipo': 'H', 'carga': '0.134500'}, {'atomo': 'C11', 'coordenadas': ('-0.4630', '3.5160', '-0.7980'), 'tipo': 'C.ar', 'carga': '-0.127750'}, {'atomo': 'H11', 'coordenadas': ('-0.7120', '4.2530', '-1.5530'), 'tipo': 'H', 'carga': '0.135250'}, {'atomo': 'C12', 'coordenadas': ('-0.2110', '2.1960', '-1.1750'), 'tipo': 'C.ar', 'carga': '-0.116750'}, {'atomo': 'H12', 'coordenadas': ('-0.2630', '1.9200', '-2.2230'), 'tipo': 'H', 'carga': '0.138000'}, {'atomo': 'C13', 'coordenadas': ('-2.4120', '-0.7070', '-0.7870'), 'tipo': 'C.3', 'carga': '-0.108300'}, {'atomo': 'H13', 'coordenadas': ('-2.3530', '0.3820', '-0.6990'), 'tipo': 'H', 'carga': '0.098700'}, {'atomo': 'H14', 'coordenadas': ('-2.5090', '-0.9720', '-1.8390'), 'tipo': 'H', 'carga': '0.098700'}]\n",
      "[[('10', '9')], [('29', '28')], [('32', '30')], [('7', '6')], [('12', '11')], [('27', '26')], [('9', '11')], [('9', '8')], [('28', '26')], [('28', '19')], [('11', '13')], [('26', '24')], [('30', '31')], [('30', '33')], [('30', '1')], [('2', '33')], [('6', '8')], [('6', '19')], [('6', '1')], [('8', '17')], [('19', '20')], [('33', '3')], [('13', '14')], [('13', '15')], [('24', '25')], [('24', '22')], [('17', '15')], [('17', '18')], [('20', '22')], [('20', '21')], [('15', '16')], [('3', '5')], [('3', '4')]]\n",
      "33\n",
      "\n",
      "\n"
     ]
    },
    {
     "ename": "IndexError",
     "evalue": "list index out of range",
     "output_type": "error",
     "traceback": [
      "\u001b[0;31m---------------------------------------------------------------------------\u001b[0m",
      "\u001b[0;31mIndexError\u001b[0m                                Traceback (most recent call last)",
      "\u001b[0;32m<ipython-input-7-179e61ab760d>\u001b[0m in \u001b[0;36m<module>\u001b[0;34m\u001b[0m\n\u001b[1;32m     62\u001b[0m \u001b[0mlista_ligacoes\u001b[0m \u001b[0;34m=\u001b[0m \u001b[0mListaLigacoes\u001b[0m\u001b[0;34m(\u001b[0m\u001b[0;34m'01.mol2'\u001b[0m\u001b[0;34m)\u001b[0m\u001b[0;34m\u001b[0m\u001b[0;34m\u001b[0m\u001b[0m\n\u001b[1;32m     63\u001b[0m \u001b[0mprint\u001b[0m\u001b[0;34m(\u001b[0m\u001b[0mlista_ligacoes\u001b[0m\u001b[0;34m)\u001b[0m\u001b[0;34m\u001b[0m\u001b[0;34m\u001b[0m\u001b[0m\n\u001b[0;32m---> 64\u001b[0;31m \u001b[0mLigacoesAtomos\u001b[0m\u001b[0;34m(\u001b[0m\u001b[0mlista_elementos\u001b[0m\u001b[0;34m,\u001b[0m\u001b[0mlista_ligacoes\u001b[0m\u001b[0;34m)\u001b[0m\u001b[0;34m\u001b[0m\u001b[0;34m\u001b[0m\u001b[0m\n\u001b[0m\u001b[1;32m     65\u001b[0m \u001b[0;34m\u001b[0m\u001b[0m\n\u001b[1;32m     66\u001b[0m \u001b[0;34m\u001b[0m\u001b[0m\n",
      "\u001b[0;32m<ipython-input-7-179e61ab760d>\u001b[0m in \u001b[0;36mLigacoesAtomos\u001b[0;34m(lista_elementos, lista_ligacoes)\u001b[0m\n\u001b[1;32m     54\u001b[0m     \u001b[0;32mfor\u001b[0m \u001b[0mi\u001b[0m \u001b[0;32min\u001b[0m \u001b[0mrange\u001b[0m\u001b[0;34m(\u001b[0m\u001b[0;36m0\u001b[0m\u001b[0;34m,\u001b[0m\u001b[0mquantidade_ligacoes\u001b[0m\u001b[0;34m)\u001b[0m\u001b[0;34m:\u001b[0m\u001b[0;34m\u001b[0m\u001b[0;34m\u001b[0m\u001b[0m\n\u001b[1;32m     55\u001b[0m         \u001b[0mA\u001b[0m \u001b[0;34m=\u001b[0m \u001b[0mlista_ligacoes\u001b[0m\u001b[0;34m[\u001b[0m\u001b[0mi\u001b[0m\u001b[0;34m]\u001b[0m\u001b[0;34m[\u001b[0m\u001b[0;36m0\u001b[0m\u001b[0;34m]\u001b[0m\u001b[0;34m\u001b[0m\u001b[0;34m\u001b[0m\u001b[0m\n\u001b[0;32m---> 56\u001b[0;31m         \u001b[0mB\u001b[0m \u001b[0;34m=\u001b[0m \u001b[0mlista_ligacoes\u001b[0m\u001b[0;34m[\u001b[0m\u001b[0mi\u001b[0m\u001b[0;34m]\u001b[0m\u001b[0;34m[\u001b[0m\u001b[0;36m1\u001b[0m\u001b[0;34m]\u001b[0m\u001b[0;34m\u001b[0m\u001b[0;34m\u001b[0m\u001b[0m\n\u001b[0m\u001b[1;32m     57\u001b[0m         \u001b[0mprint\u001b[0m\u001b[0;34m(\u001b[0m\u001b[0;34m\"Ligacao {} : {} + {}\"\u001b[0m\u001b[0;34m)\u001b[0m\u001b[0;34m.\u001b[0m\u001b[0mformat\u001b[0m\u001b[0;34m(\u001b[0m\u001b[0mi\u001b[0m\u001b[0;34m,\u001b[0m\u001b[0mlista_elementos\u001b[0m\u001b[0;34m[\u001b[0m\u001b[0mA\u001b[0m\u001b[0;34m]\u001b[0m\u001b[0;34m,\u001b[0m \u001b[0mlista_elementos\u001b[0m\u001b[0;34m[\u001b[0m\u001b[0mB\u001b[0m\u001b[0;34m]\u001b[0m \u001b[0;34m)\u001b[0m\u001b[0;34m\u001b[0m\u001b[0;34m\u001b[0m\u001b[0m\n\u001b[1;32m     58\u001b[0m \u001b[0;34m\u001b[0m\u001b[0m\n",
      "\u001b[0;31mIndexError\u001b[0m: list index out of range"
     ]
    }
   ],
   "source": [
    "#Exercicio_2\n",
    "\n",
    "def ListaElementos(arquivo):\n",
    "    \n",
    "        lista_elementos = []\n",
    "        inicio, fim, conteudo = DelimitaArquivo(arquivo, '@<TRIPOS>ATOM','@<TRIPOS>BOND')\n",
    "    \n",
    "        for i in range(inicio,fim):\n",
    "            ls = conteudo[i].split()\n",
    "            elemento = {\"atomo\":ls[1],\"coordenadas\":(ls[2],ls[3],ls[4]),\"tipo\": ls[5],\"carga\":ls[8]}\n",
    "            lista_elementos.append(elemento)\n",
    "    \n",
    "        return lista_elementos\n",
    "    \n",
    "def ListaLigacoes(arquivo):\n",
    "    \n",
    "        inicio, fim, conteudo = DelimitaArquivo(arquivo, '@<TRIPOS>BOND','@<TRIPOS>SUBSTRUCTURE')\n",
    "        \n",
    "        lista_ligacoes = []\n",
    "        \n",
    "        for i in range(inicio,fim):\n",
    "            ls = conteudo[i].split()\n",
    "            ligacao = [(ls[1],ls[2])]\n",
    "            lista_ligacoes.append(ligacao)\n",
    "        \n",
    "        return lista_ligacoes\n",
    "    \n",
    "def DelimitaArquivo(arquivo, string1, string2):\n",
    "    \n",
    "        conteudo = LeConteudo(arquivo)\n",
    "        for linha in conteudo:\n",
    "            if string1 in linha:\n",
    "                inicio = conteudo.index(linha) +1\n",
    "            if string2 in linha:\n",
    "                fim = conteudo.index(linha) -1\n",
    "\n",
    "                \n",
    "        return inicio, fim, conteudo\n",
    "\n",
    "def LeConteudo(arquivo):\n",
    "    import os\n",
    "    \n",
    "    with open('01.mol2', 'r') as f:\n",
    "        conteudo = f.readlines()\n",
    "        return conteudo\n",
    "\n",
    "def LigacoesAtomos(lista_elementos,lista_ligacoes):\n",
    "    quantidade_ligacoes = len(lista_ligacoes)\n",
    "    print(quantidade_ligacoes)\n",
    "    print()\n",
    "    print()\n",
    "    \n",
    "\n",
    "    for i in range(0,quantidade_ligacoes):\n",
    "        A = lista_ligacoes[i][0]\n",
    "        B = lista_ligacoes[i][1]\n",
    "        print(\"Ligacao {} : {} + {}\").format(i,lista_elementos[A], lista_elementos[B] )\n",
    "    \n",
    "\n",
    "lista_elementos = ListaElementos('01.mol2')\n",
    "print(lista_elementos)\n",
    "lista_ligacoes = ListaLigacoes('01.mol2')\n",
    "print(lista_ligacoes)\n",
    "LigacoesAtomos(lista_elementos,lista_ligacoes)\n",
    "\n",
    "\n",
    "\n"
   ]
  },
  {
   "cell_type": "code",
   "execution_count": 4,
   "metadata": {},
   "outputs": [
    {
     "name": "stdout",
     "output_type": "stream",
     "text": [
      "2\n",
      "1\n",
      "3\n",
      "5\n"
     ]
    }
   ],
   "source": [
    "ltupla = [(2,1),(3,5)]\n",
    "print(ltupla[0][0])\n",
    "print(ltupla[0][1])\n",
    "print(ltupla[1][0])\n",
    "print(ltupla[1][1])"
   ]
  },
  {
   "cell_type": "markdown",
   "metadata": {},
   "source": [
    "1. Escreva um programa para ler o arquivo texto 01.mol2 e criar uma lista na qual cada elemento se refere a um átomo da molécula. Cada elemento da lista conterá um dicionário contendo as seguintes informações:\n",
    "    + Átomo em questão (2ª coluna)\n",
    "    + Tupla contendo as coordenadas x, y e z do átomo (3ª, 4ª e 5ª colunas)\n",
    "    + Tipo do átomo (6ª coluna)\n",
    "    + Carga atômica parcial do átomo (9ª coluna)"
   ]
  },
  {
   "cell_type": "code",
   "execution_count": 41,
   "metadata": {},
   "outputs": [
    {
     "name": "stdout",
     "output_type": "stream",
     "text": [
      "Inicio na linha:  8\n",
      "Fim na linha:  40\n",
      "[{'atomo': 'S', 'coordenadas': ('-0.8790', '-1.4290', '-0.0740'), 'tipo': 'S.3', 'carga': '-0.300200'}, {'atomo': 'O', 'coordenadas': ('-4.7320', '-1.2760', '-0.7270'), 'tipo': 'O.2', 'carga': '-0.611100'}, {'atomo': 'N', 'coordenadas': ('-3.6270', '-1.3330', '1.2540'), 'tipo': 'N.am', 'carga': '-0.665000'}, {'atomo': 'H', 'coordenadas': ('-4.4600', '-1.6170', '1.7450'), 'tipo': 'H', 'carga': '0.318500'}, {'atomo': 'H1', 'coordenadas': ('-2.7470', '-1.2830', '1.7440'), 'tipo': 'H', 'carga': '0.318500'}, {'atomo': 'C', 'coordenadas': ('0.3930', '-0.1980', '-0.6770'), 'tipo': 'C.3', 'carga': '0.122000'}, {'atomo': 'H2', 'coordenadas': ('0.3210', '-0.2180', '-1.7660'), 'tipo': 'H', 'carga': '0.081700'}, {'atomo': 'C1', 'coordenadas': ('1.7770', '-0.7110', '-0.3070'), 'tipo': 'C.ar', 'carga': '-0.081800'}, {'atomo': 'C2', 'coordenadas': ('2.8010', '-0.6220', '-1.2570'), 'tipo': 'C.ar', 'carga': '-0.116750'}, {'atomo': 'H3', 'coordenadas': ('2.5830', '-0.2200', '-2.2410'), 'tipo': 'H', 'carga': '0.138000'}, {'atomo': 'C3', 'coordenadas': ('4.0950', '-1.0400', '-0.9580'), 'tipo': 'C.ar', 'carga': '-0.127750'}, {'atomo': 'H4', 'coordenadas': ('4.8720', '-0.9630', '-1.7090'), 'tipo': 'H', 'carga': '0.135250'}, {'atomo': 'C4', 'coordenadas': ('4.3870', '-1.5610', '0.3010'), 'tipo': 'C.ar', 'carga': '-0.122000'}, {'atomo': 'H5', 'coordenadas': ('5.3920', '-1.8920', '0.5360'), 'tipo': 'H', 'carga': '0.134500'}, {'atomo': 'C5', 'coordenadas': ('3.3740', '-1.6630', '1.2530'), 'tipo': 'C.ar', 'carga': '-0.127750'}, {'atomo': 'H6', 'coordenadas': ('3.5880', '-2.0770', '2.2320'), 'tipo': 'H', 'carga': '0.135250'}, {'atomo': 'C6', 'coordenadas': ('2.0800', '-1.2420', '0.9520'), 'tipo': 'C.ar', 'carga': '-0.116750'}, {'atomo': 'H7', 'coordenadas': ('1.3020', '-1.3430', '1.6990'), 'tipo': 'H', 'carga': '0.138000'}, {'atomo': 'C7', 'coordenadas': ('0.1130', '1.2240', '-0.2220'), 'tipo': 'C.ar', 'carga': '-0.081800'}, {'atomo': 'C8', 'coordenadas': ('0.1740', '1.6050', '1.1240'), 'tipo': 'C.ar', 'carga': '-0.116750'}, {'atomo': 'H8', 'coordenadas': ('0.4200', '0.8700', '1.8810'), 'tipo': 'H', 'carga': '0.138000'}, {'atomo': 'C9', 'coordenadas': ('-0.0760', '2.9190', '1.5030'), 'tipo': 'C.ar', 'carga': '-0.127750'}, {'atomo': 'H9', 'coordenadas': ('-0.0200', '3.1960', '2.5500'), 'tipo': 'H', 'carga': '0.135250'}, {'atomo': 'C10', 'coordenadas': ('-0.3960', '3.8810', '0.5430'), 'tipo': 'C.ar', 'carga': '-0.122000'}, {'atomo': 'H10', 'coordenadas': ('-0.5910', '4.9050', '0.8400'), 'tipo': 'H', 'carga': '0.134500'}, {'atomo': 'C11', 'coordenadas': ('-0.4630', '3.5160', '-0.7980'), 'tipo': 'C.ar', 'carga': '-0.127750'}, {'atomo': 'H11', 'coordenadas': ('-0.7120', '4.2530', '-1.5530'), 'tipo': 'H', 'carga': '0.135250'}, {'atomo': 'C12', 'coordenadas': ('-0.2110', '2.1960', '-1.1750'), 'tipo': 'C.ar', 'carga': '-0.116750'}, {'atomo': 'H12', 'coordenadas': ('-0.2630', '1.9200', '-2.2230'), 'tipo': 'H', 'carga': '0.138000'}, {'atomo': 'C13', 'coordenadas': ('-2.4120', '-0.7070', '-0.7870'), 'tipo': 'C.3', 'carga': '-0.108300'}, {'atomo': 'H13', 'coordenadas': ('-2.3530', '0.3820', '-0.6990'), 'tipo': 'H', 'carga': '0.098700'}, {'atomo': 'H14', 'coordenadas': ('-2.5090', '-0.9720', '-1.8390'), 'tipo': 'H', 'carga': '0.098700'}]\n"
     ]
    }
   ],
   "source": [
    "#Exercício_1\n",
    "\n",
    "import os\n",
    "\n",
    "with open('01.mol2', 'r') as f:\n",
    "    conteudo = f.readlines()\n",
    "    for linha in conteudo:\n",
    "        if '@<TRIPOS>ATOM'in linha:\n",
    "            inicio = conteudo.index(linha) +1\n",
    "            print(\"Inicio na linha: \", inicio )\n",
    "        if '@<TRIPOS>BOND'in linha:\n",
    "            fim = conteudo.index(linha) -1\n",
    "            print(\"Fim na linha: \", fim )    \n",
    "    \n",
    "    lista_elementos = []\n",
    "    \n",
    "    for i in range(inicio,fim):\n",
    "        ls = conteudo[i].split()\n",
    "        elemento = {\"atomo\":ls[1],\"coordenadas\":(ls[2],ls[3],ls[4]),\"tipo\": ls[5],\"carga\":ls[8]}\n",
    "        lista_elementos.append(elemento)\n",
    "    \n",
    "    print(lista_elementos)\n",
    "        \n",
    "       "
   ]
  },
  {
   "cell_type": "code",
   "execution_count": 20,
   "metadata": {},
   "outputs": [
    {
     "name": "stdout",
     "output_type": "stream",
     "text": [
      "78\n"
     ]
    }
   ],
   "source": [
    "#_teste3\n",
    "import os\n",
    "with open('01.mol2', 'r') as f:\n",
    "    row_count = sum(1 for row in f)\n",
    "    print(row_count)\n",
    "\n"
   ]
  },
  {
   "cell_type": "code",
   "execution_count": 6,
   "metadata": {},
   "outputs": [
    {
     "name": "stdout",
     "output_type": "stream",
     "text": [
      "@<TRIPOS>MOLECULE\n",
      "D:\\Documents\\PROJETO\n",
      "   33    34     1     0     0\n",
      "SMALL\n",
      "bcc\n",
      "\n",
      "\n",
      "@<TRIPOS>ATOM\n",
      "      1 S          -0.8790   -1.4290   -0.0740 S.3       1 LIG     -0.300200\n",
      "      2 O          -4.7320   -1.2760   -0.7270 O.2       1 LIG     -0.611100\n",
      "      3 N          -3.6270   -1.3330    1.2540 N.am      1 LIG     -0.665000\n",
      "      4 H          -4.4600   -1.6170    1.7450 H         1 LIG      0.318500\n",
      "      5 H1         -2.7470   -1.2830    1.7440 H         1 LIG      0.318500\n",
      "      6 C           0.3930   -0.1980   -0.6770 C.3       1 LIG      0.122000\n",
      "      7 H2          0.3210   -0.2180   -1.7660 H         1 LIG      0.081700\n",
      "      8 C1          1.7770   -0.7110   -0.3070 C.ar      1 LIG     -0.081800\n",
      "      9 C2          2.8010   -0.6220   -1.2570 C.ar      1 LIG     -0.116750\n",
      "     10 H3          2.5830   -0.2200   -2.2410 H         1 LIG      0.138000\n",
      "     11 C3          4.0950   -1.0400   -0.9580 C.ar      1 LIG     -0.127750\n",
      "     12 H4          4.8720   -0.9630   -1.7090 H         1 LIG      0.135250\n",
      "     13 C4          4.3870   -1.5610    0.3010 C.ar      1 LIG     -0.122000\n",
      "     14 H5          5.3920   -1.8920    0.5360 H         1 LIG      0.134500\n",
      "     15 C5          3.3740   -1.6630    1.2530 C.ar      1 LIG     -0.127750\n",
      "     16 H6          3.5880   -2.0770    2.2320 H         1 LIG      0.135250\n",
      "     17 C6          2.0800   -1.2420    0.9520 C.ar      1 LIG     -0.116750\n",
      "     18 H7          1.3020   -1.3430    1.6990 H         1 LIG      0.138000\n",
      "     19 C7          0.1130    1.2240   -0.2220 C.ar      1 LIG     -0.081800\n",
      "     20 C8          0.1740    1.6050    1.1240 C.ar      1 LIG     -0.116750\n",
      "     21 H8          0.4200    0.8700    1.8810 H         1 LIG      0.138000\n",
      "     22 C9         -0.0760    2.9190    1.5030 C.ar      1 LIG     -0.127750\n",
      "     23 H9         -0.0200    3.1960    2.5500 H         1 LIG      0.135250\n",
      "     24 C10        -0.3960    3.8810    0.5430 C.ar      1 LIG     -0.122000\n",
      "     25 H10        -0.5910    4.9050    0.8400 H         1 LIG      0.134500\n",
      "     26 C11        -0.4630    3.5160   -0.7980 C.ar      1 LIG     -0.127750\n",
      "     27 H11        -0.7120    4.2530   -1.5530 H         1 LIG      0.135250\n",
      "     28 C12        -0.2110    2.1960   -1.1750 C.ar      1 LIG     -0.116750\n",
      "     29 H12        -0.2630    1.9200   -2.2230 H         1 LIG      0.138000\n",
      "     30 C13        -2.4120   -0.7070   -0.7870 C.3       1 LIG     -0.108300\n",
      "     31 H13        -2.3530    0.3820   -0.6990 H         1 LIG      0.098700\n",
      "     32 H14        -2.5090   -0.9720   -1.8390 H         1 LIG      0.098700\n",
      "     33 C14        -3.7000   -1.1520   -0.0920 C.2       1 LIG      0.673100\n",
      "@<TRIPOS>BOND\n",
      "     1   10    9 1   \n",
      "     2   29   28 1   \n",
      "     3   32   30 1   \n",
      "     4    7    6 1   \n",
      "     5   12   11 1   \n",
      "     6   27   26 1   \n",
      "     7    9   11 ar  \n",
      "     8    9    8 ar  \n",
      "     9   28   26 ar  \n",
      "    10   28   19 ar  \n",
      "    11   11   13 ar  \n",
      "    12   26   24 ar  \n",
      "    13   30   31 1   \n",
      "    14   30   33 1   \n",
      "    15   30    1 1   \n",
      "    16    2   33 2   \n",
      "    17    6    8 1   \n",
      "    18    6   19 1   \n",
      "    19    6    1 1   \n",
      "    20    8   17 ar  \n",
      "    21   19   20 ar  \n",
      "    22   33    3 am  \n",
      "    23   13   14 1   \n",
      "    24   13   15 ar  \n",
      "    25   24   25 1   \n",
      "    26   24   22 ar  \n",
      "    27   17   15 ar  \n",
      "    28   17   18 1   \n",
      "    29   20   22 ar  \n",
      "    30   20   21 1   \n",
      "    31   15   16 1   \n",
      "    32    3    5 1   \n",
      "    33    3    4 1   \n",
      "    34   22   23 1   \n",
      "@<TRIPOS>SUBSTRUCTURE\n",
      "     1 LIG         1 TEMP              0 ****  ****    0 ROOT\n",
      "\n"
     ]
    }
   ],
   "source": [
    "#_teste2\n",
    "import os\n",
    "with open('01.mol2', 'r') as f:\n",
    "    conteudo = f.read()\n",
    "    print(conteudo)\n"
   ]
  },
  {
   "cell_type": "code",
   "execution_count": 1,
   "metadata": {},
   "outputs": [
    {
     "data": {
      "text/plain": [
       "['comp12DFT.gamout',\n",
       " 'comp07DFT.gamout',\n",
       " 'dicionarios.ipynb',\n",
       " '01.mol2',\n",
       " 'arquivo_1.txt',\n",
       " 'arquivo_3.txt',\n",
       " 'arquivo_2.txt',\n",
       " '.ipynb_checkpoints',\n",
       " 'strings.ipynb',\n",
       " 'MOM_Ciclica_conf_04.mol',\n",
       " 'MOM_Ciclica_conf_05.mol',\n",
       " 'MOM_Ciclica_conf_01.mol',\n",
       " 'comp03DFT.gamout',\n",
       " 'MOM_Ciclica_conf_02.mol',\n",
       " 'MOM_Ciclica_conf_03.mol',\n",
       " 'exercicio_strings.ipynb']"
      ]
     },
     "execution_count": 1,
     "metadata": {},
     "output_type": "execute_result"
    }
   ],
   "source": [
    "#_teste1\n",
    "import os\n",
    "os.listdir(\".\") #lista o diretório local"
   ]
  }
 ],
 "metadata": {
  "kernelspec": {
   "display_name": "Python 3",
   "language": "python",
   "name": "python3"
  },
  "language_info": {
   "codemirror_mode": {
    "name": "ipython",
    "version": 3
   },
   "file_extension": ".py",
   "mimetype": "text/x-python",
   "name": "python",
   "nbconvert_exporter": "python",
   "pygments_lexer": "ipython3",
   "version": "3.8.5"
  }
 },
 "nbformat": 4,
 "nbformat_minor": 2
}
